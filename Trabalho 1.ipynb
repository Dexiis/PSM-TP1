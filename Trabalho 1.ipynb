{
 "cells": [
  {
   "cell_type": "markdown",
   "id": "1ae30b50",
   "metadata": {},
   "source": [
    "<p align=\"center\">\n",
    "  <span style=\"font-size:22px\"><b>ISEL</b></span><br>\n",
    "  <span style=\"font-size:22px\"><b>Departamento de Engenharia Informática</b></span><br>\n",
    "  <span style=\"font-size:22px\"><b>Licenciatura em Engenharia Informática e Multimédia</b></span><br>\n",
    "  <span style=\"font-size:22px\"><b>Processamento de Sinais Multimédia</b></span><br><br>\n",
    "  <span style=\"font-size:18px\"><b>1º Trabalho Prático</b></span><br>\n",
    "  <span style=\"font-size:16px\">3º Semestre 2025/2026</span><br><br>\n",
    "  <span style=\"font-size:16px\">Docente: Prof. Tiago Gonçalves</span><br>\n",
    "  <span style=\"font-size:16px\">Docente: Prof. Joel Paulo</span><br>\n",
    "  <span style=\"font-size:16px\">Data: Outobro</span><br><br>\n",
    "  <span style=\"font-size:16px\">Trabalho realizado por:</span><br>\n",
    "  <span style=\"font-size:16px\">David Santos nº51417</span><br>\n",
    "  <span style=\"font-size:16px\">Bernardo Aguiar nº52483</span><br>\n",
    "  <span style=\"font-size:16px\">Diogo Costa nº52453</span><br>\n",
    "</p>"
   ]
  }
 ],
 "metadata": {
  "kernelspec": {
   "display_name": "Python 3",
   "language": "python",
   "name": "python3"
  },
  "language_info": {
   "codemirror_mode": {
    "name": "ipython",
    "version": 3
   },
   "file_extension": ".py",
   "mimetype": "text/x-python",
   "name": "python",
   "nbconvert_exporter": "python",
   "pygments_lexer": "ipython3",
   "version": "3.12.6"
  }
 },
 "nbformat": 4,
 "nbformat_minor": 5
}
